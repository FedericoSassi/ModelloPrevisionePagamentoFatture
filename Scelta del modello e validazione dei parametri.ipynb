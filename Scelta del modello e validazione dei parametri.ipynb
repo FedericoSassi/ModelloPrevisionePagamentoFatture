{
 "cells": [
  {
   "cell_type": "code",
   "execution_count": 1,
   "id": "7878730e",
   "metadata": {},
   "outputs": [],
   "source": [
    "import pandas as pd\n",
    "import numpy as np\n",
    "import os\n",
    "\n",
    "import matplotlib.pyplot as plt\n",
    "\n",
    "from sklearn.model_selection import ShuffleSplit\n",
    "from sklearn.model_selection import StratifiedShuffleSplit\n",
    "from sklearn.model_selection import ParameterGrid\n",
    "from sklearn.model_selection import StratifiedKFold\n",
    "from sklearn.model_selection import GridSearchCV\n",
    "\n",
    "from sklearn.metrics import make_scorer\n",
    "from sklearn.metrics import precision_score\n",
    "from sklearn.metrics import recall_score\n",
    "from sklearn.metrics import f1_score\n",
    "from sklearn.metrics import accuracy_score\n",
    "from sklearn.metrics import plot_confusion_matrix\n",
    "from sklearn.metrics import balanced_accuracy_score\n",
    "\n",
    "\n",
    "from sklearn.neighbors import KNeighborsClassifier\n",
    "\n",
    "from sklearn.tree import DecisionTreeClassifier\n",
    "\n",
    "from sklearn.svm import SVC\n",
    "\n",
    "from sklearn.ensemble import RandomForestClassifier\n",
    "\n",
    "import warnings\n",
    "\n",
    "warnings.simplefilter(action='ignore', category=FutureWarning)\n",
    "\n",
    "rnd = 8\n",
    "\n",
    "nrCpu = os.cpu_count()"
   ]
  },
  {
   "cell_type": "code",
   "execution_count": 2,
   "id": "ce607c7c",
   "metadata": {},
   "outputs": [
    {
     "data": {
      "text/html": [
       "<div>\n",
       "<style scoped>\n",
       "    .dataframe tbody tr th:only-of-type {\n",
       "        vertical-align: middle;\n",
       "    }\n",
       "\n",
       "    .dataframe tbody tr th {\n",
       "        vertical-align: top;\n",
       "    }\n",
       "\n",
       "    .dataframe thead th {\n",
       "        text-align: right;\n",
       "    }\n",
       "</style>\n",
       "<table border=\"1\" class=\"dataframe\">\n",
       "  <thead>\n",
       "    <tr style=\"text-align: right;\">\n",
       "      <th></th>\n",
       "      <th>0</th>\n",
       "      <th>1</th>\n",
       "      <th>2</th>\n",
       "      <th>3</th>\n",
       "      <th>4</th>\n",
       "      <th>5</th>\n",
       "      <th>6</th>\n",
       "      <th>7</th>\n",
       "      <th>8</th>\n",
       "      <th>9</th>\n",
       "      <th>...</th>\n",
       "      <th>17</th>\n",
       "      <th>18</th>\n",
       "      <th>19</th>\n",
       "      <th>20</th>\n",
       "      <th>21</th>\n",
       "      <th>22</th>\n",
       "      <th>23</th>\n",
       "      <th>24</th>\n",
       "      <th>25</th>\n",
       "      <th>26</th>\n",
       "    </tr>\n",
       "  </thead>\n",
       "  <tbody>\n",
       "    <tr>\n",
       "      <th>0</th>\n",
       "      <td>0.033821</td>\n",
       "      <td>-0.209095</td>\n",
       "      <td>-0.302467</td>\n",
       "      <td>-0.235037</td>\n",
       "      <td>-0.163307</td>\n",
       "      <td>-0.221327</td>\n",
       "      <td>-0.215671</td>\n",
       "      <td>-0.194085</td>\n",
       "      <td>1.0</td>\n",
       "      <td>0.0</td>\n",
       "      <td>...</td>\n",
       "      <td>1.0</td>\n",
       "      <td>0.0</td>\n",
       "      <td>0.0</td>\n",
       "      <td>0.0</td>\n",
       "      <td>0.0</td>\n",
       "      <td>0.0</td>\n",
       "      <td>1.0</td>\n",
       "      <td>0.0</td>\n",
       "      <td>0.0</td>\n",
       "      <td>0.0</td>\n",
       "    </tr>\n",
       "    <tr>\n",
       "      <th>1</th>\n",
       "      <td>-0.104739</td>\n",
       "      <td>1.757139</td>\n",
       "      <td>3.053373</td>\n",
       "      <td>-0.244665</td>\n",
       "      <td>-0.102623</td>\n",
       "      <td>0.561803</td>\n",
       "      <td>-0.185232</td>\n",
       "      <td>-0.173303</td>\n",
       "      <td>0.0</td>\n",
       "      <td>0.0</td>\n",
       "      <td>...</td>\n",
       "      <td>1.0</td>\n",
       "      <td>0.0</td>\n",
       "      <td>0.0</td>\n",
       "      <td>0.0</td>\n",
       "      <td>0.0</td>\n",
       "      <td>1.0</td>\n",
       "      <td>0.0</td>\n",
       "      <td>0.0</td>\n",
       "      <td>0.0</td>\n",
       "      <td>0.0</td>\n",
       "    </tr>\n",
       "    <tr>\n",
       "      <th>2</th>\n",
       "      <td>-0.114456</td>\n",
       "      <td>-0.187488</td>\n",
       "      <td>0.017137</td>\n",
       "      <td>5.825886</td>\n",
       "      <td>-0.041939</td>\n",
       "      <td>-0.203925</td>\n",
       "      <td>8.642608</td>\n",
       "      <td>-0.233834</td>\n",
       "      <td>0.0</td>\n",
       "      <td>0.0</td>\n",
       "      <td>...</td>\n",
       "      <td>1.0</td>\n",
       "      <td>0.0</td>\n",
       "      <td>0.0</td>\n",
       "      <td>0.0</td>\n",
       "      <td>0.0</td>\n",
       "      <td>0.0</td>\n",
       "      <td>1.0</td>\n",
       "      <td>0.0</td>\n",
       "      <td>0.0</td>\n",
       "      <td>0.0</td>\n",
       "    </tr>\n",
       "    <tr>\n",
       "      <th>3</th>\n",
       "      <td>0.102142</td>\n",
       "      <td>-0.187488</td>\n",
       "      <td>-0.302467</td>\n",
       "      <td>-0.030163</td>\n",
       "      <td>-0.163307</td>\n",
       "      <td>-0.203925</td>\n",
       "      <td>-0.200518</td>\n",
       "      <td>-0.138334</td>\n",
       "      <td>1.0</td>\n",
       "      <td>0.0</td>\n",
       "      <td>...</td>\n",
       "      <td>1.0</td>\n",
       "      <td>0.0</td>\n",
       "      <td>0.0</td>\n",
       "      <td>0.0</td>\n",
       "      <td>0.0</td>\n",
       "      <td>0.0</td>\n",
       "      <td>1.0</td>\n",
       "      <td>0.0</td>\n",
       "      <td>0.0</td>\n",
       "      <td>0.0</td>\n",
       "    </tr>\n",
       "    <tr>\n",
       "      <th>4</th>\n",
       "      <td>-0.119576</td>\n",
       "      <td>-0.187488</td>\n",
       "      <td>-0.302467</td>\n",
       "      <td>0.267658</td>\n",
       "      <td>-0.102623</td>\n",
       "      <td>-0.203925</td>\n",
       "      <td>-0.268328</td>\n",
       "      <td>-0.237830</td>\n",
       "      <td>1.0</td>\n",
       "      <td>0.0</td>\n",
       "      <td>...</td>\n",
       "      <td>1.0</td>\n",
       "      <td>0.0</td>\n",
       "      <td>0.0</td>\n",
       "      <td>0.0</td>\n",
       "      <td>0.0</td>\n",
       "      <td>0.0</td>\n",
       "      <td>1.0</td>\n",
       "      <td>0.0</td>\n",
       "      <td>0.0</td>\n",
       "      <td>0.0</td>\n",
       "    </tr>\n",
       "  </tbody>\n",
       "</table>\n",
       "<p>5 rows × 27 columns</p>\n",
       "</div>"
      ],
      "text/plain": [
       "         0         1         2         3         4         5         6   \\\n",
       "0  0.033821 -0.209095 -0.302467 -0.235037 -0.163307 -0.221327 -0.215671   \n",
       "1 -0.104739  1.757139  3.053373 -0.244665 -0.102623  0.561803 -0.185232   \n",
       "2 -0.114456 -0.187488  0.017137  5.825886 -0.041939 -0.203925  8.642608   \n",
       "3  0.102142 -0.187488 -0.302467 -0.030163 -0.163307 -0.203925 -0.200518   \n",
       "4 -0.119576 -0.187488 -0.302467  0.267658 -0.102623 -0.203925 -0.268328   \n",
       "\n",
       "         7    8    9   ...   17   18   19   20   21   22   23   24   25   26  \n",
       "0 -0.194085  1.0  0.0  ...  1.0  0.0  0.0  0.0  0.0  0.0  1.0  0.0  0.0  0.0  \n",
       "1 -0.173303  0.0  0.0  ...  1.0  0.0  0.0  0.0  0.0  1.0  0.0  0.0  0.0  0.0  \n",
       "2 -0.233834  0.0  0.0  ...  1.0  0.0  0.0  0.0  0.0  0.0  1.0  0.0  0.0  0.0  \n",
       "3 -0.138334  1.0  0.0  ...  1.0  0.0  0.0  0.0  0.0  0.0  1.0  0.0  0.0  0.0  \n",
       "4 -0.237830  1.0  0.0  ...  1.0  0.0  0.0  0.0  0.0  0.0  1.0  0.0  0.0  0.0  \n",
       "\n",
       "[5 rows x 27 columns]"
      ]
     },
     "execution_count": 2,
     "metadata": {},
     "output_type": "execute_result"
    }
   ],
   "source": [
    "X_train = pd.read_csv(\n",
    "    filepath_or_buffer = 'Data/XTrain.csv'\n",
    "    , delimiter= ';'\n",
    "    , header=None\n",
    ")\n",
    "\n",
    "X_train.head()"
   ]
  },
  {
   "cell_type": "code",
   "execution_count": 3,
   "id": "e21fd940",
   "metadata": {},
   "outputs": [
    {
     "data": {
      "text/html": [
       "<div>\n",
       "<style scoped>\n",
       "    .dataframe tbody tr th:only-of-type {\n",
       "        vertical-align: middle;\n",
       "    }\n",
       "\n",
       "    .dataframe tbody tr th {\n",
       "        vertical-align: top;\n",
       "    }\n",
       "\n",
       "    .dataframe thead th {\n",
       "        text-align: right;\n",
       "    }\n",
       "</style>\n",
       "<table border=\"1\" class=\"dataframe\">\n",
       "  <thead>\n",
       "    <tr style=\"text-align: right;\">\n",
       "      <th></th>\n",
       "      <th>0</th>\n",
       "      <th>1</th>\n",
       "      <th>2</th>\n",
       "      <th>3</th>\n",
       "      <th>4</th>\n",
       "      <th>5</th>\n",
       "      <th>6</th>\n",
       "      <th>7</th>\n",
       "      <th>8</th>\n",
       "      <th>9</th>\n",
       "      <th>...</th>\n",
       "      <th>17</th>\n",
       "      <th>18</th>\n",
       "      <th>19</th>\n",
       "      <th>20</th>\n",
       "      <th>21</th>\n",
       "      <th>22</th>\n",
       "      <th>23</th>\n",
       "      <th>24</th>\n",
       "      <th>25</th>\n",
       "      <th>26</th>\n",
       "    </tr>\n",
       "  </thead>\n",
       "  <tbody>\n",
       "    <tr>\n",
       "      <th>0</th>\n",
       "      <td>-0.130575</td>\n",
       "      <td>0.028582</td>\n",
       "      <td>0.656345</td>\n",
       "      <td>2.722224</td>\n",
       "      <td>0.079430</td>\n",
       "      <td>-0.203925</td>\n",
       "      <td>2.792454</td>\n",
       "      <td>2.413137</td>\n",
       "      <td>1.0</td>\n",
       "      <td>0.0</td>\n",
       "      <td>...</td>\n",
       "      <td>1.0</td>\n",
       "      <td>0.0</td>\n",
       "      <td>0.0</td>\n",
       "      <td>0.0</td>\n",
       "      <td>0.0</td>\n",
       "      <td>0.0</td>\n",
       "      <td>1.0</td>\n",
       "      <td>0.0</td>\n",
       "      <td>0.0</td>\n",
       "      <td>0.0</td>\n",
       "    </tr>\n",
       "    <tr>\n",
       "      <th>1</th>\n",
       "      <td>-0.085652</td>\n",
       "      <td>9.794932</td>\n",
       "      <td>1.615156</td>\n",
       "      <td>-0.255983</td>\n",
       "      <td>-0.163307</td>\n",
       "      <td>3.642117</td>\n",
       "      <td>-0.198086</td>\n",
       "      <td>-0.217658</td>\n",
       "      <td>1.0</td>\n",
       "      <td>0.0</td>\n",
       "      <td>...</td>\n",
       "      <td>1.0</td>\n",
       "      <td>0.0</td>\n",
       "      <td>0.0</td>\n",
       "      <td>0.0</td>\n",
       "      <td>0.0</td>\n",
       "      <td>0.0</td>\n",
       "      <td>0.0</td>\n",
       "      <td>1.0</td>\n",
       "      <td>0.0</td>\n",
       "      <td>0.0</td>\n",
       "    </tr>\n",
       "    <tr>\n",
       "      <th>2</th>\n",
       "      <td>-0.118183</td>\n",
       "      <td>-0.187488</td>\n",
       "      <td>-0.302467</td>\n",
       "      <td>-0.255983</td>\n",
       "      <td>-0.041939</td>\n",
       "      <td>-0.203925</td>\n",
       "      <td>-0.188706</td>\n",
       "      <td>-0.177195</td>\n",
       "      <td>0.0</td>\n",
       "      <td>0.0</td>\n",
       "      <td>...</td>\n",
       "      <td>1.0</td>\n",
       "      <td>0.0</td>\n",
       "      <td>0.0</td>\n",
       "      <td>0.0</td>\n",
       "      <td>0.0</td>\n",
       "      <td>0.0</td>\n",
       "      <td>1.0</td>\n",
       "      <td>0.0</td>\n",
       "      <td>0.0</td>\n",
       "      <td>0.0</td>\n",
       "    </tr>\n",
       "    <tr>\n",
       "      <th>3</th>\n",
       "      <td>-0.090650</td>\n",
       "      <td>-0.079453</td>\n",
       "      <td>0.336741</td>\n",
       "      <td>-0.242346</td>\n",
       "      <td>-0.041939</td>\n",
       "      <td>-0.029896</td>\n",
       "      <td>-0.252062</td>\n",
       "      <td>-0.257627</td>\n",
       "      <td>0.0</td>\n",
       "      <td>0.0</td>\n",
       "      <td>...</td>\n",
       "      <td>1.0</td>\n",
       "      <td>0.0</td>\n",
       "      <td>0.0</td>\n",
       "      <td>0.0</td>\n",
       "      <td>0.0</td>\n",
       "      <td>0.0</td>\n",
       "      <td>1.0</td>\n",
       "      <td>0.0</td>\n",
       "      <td>0.0</td>\n",
       "      <td>0.0</td>\n",
       "    </tr>\n",
       "    <tr>\n",
       "      <th>4</th>\n",
       "      <td>-0.118611</td>\n",
       "      <td>-0.187488</td>\n",
       "      <td>-0.302467</td>\n",
       "      <td>-0.234912</td>\n",
       "      <td>-0.041939</td>\n",
       "      <td>-0.203925</td>\n",
       "      <td>-0.258322</td>\n",
       "      <td>-0.260112</td>\n",
       "      <td>0.0</td>\n",
       "      <td>0.0</td>\n",
       "      <td>...</td>\n",
       "      <td>1.0</td>\n",
       "      <td>0.0</td>\n",
       "      <td>0.0</td>\n",
       "      <td>0.0</td>\n",
       "      <td>0.0</td>\n",
       "      <td>0.0</td>\n",
       "      <td>1.0</td>\n",
       "      <td>0.0</td>\n",
       "      <td>0.0</td>\n",
       "      <td>0.0</td>\n",
       "    </tr>\n",
       "  </tbody>\n",
       "</table>\n",
       "<p>5 rows × 27 columns</p>\n",
       "</div>"
      ],
      "text/plain": [
       "         0         1         2         3         4         5         6   \\\n",
       "0 -0.130575  0.028582  0.656345  2.722224  0.079430 -0.203925  2.792454   \n",
       "1 -0.085652  9.794932  1.615156 -0.255983 -0.163307  3.642117 -0.198086   \n",
       "2 -0.118183 -0.187488 -0.302467 -0.255983 -0.041939 -0.203925 -0.188706   \n",
       "3 -0.090650 -0.079453  0.336741 -0.242346 -0.041939 -0.029896 -0.252062   \n",
       "4 -0.118611 -0.187488 -0.302467 -0.234912 -0.041939 -0.203925 -0.258322   \n",
       "\n",
       "         7    8    9   ...   17   18   19   20   21   22   23   24   25   26  \n",
       "0  2.413137  1.0  0.0  ...  1.0  0.0  0.0  0.0  0.0  0.0  1.0  0.0  0.0  0.0  \n",
       "1 -0.217658  1.0  0.0  ...  1.0  0.0  0.0  0.0  0.0  0.0  0.0  1.0  0.0  0.0  \n",
       "2 -0.177195  0.0  0.0  ...  1.0  0.0  0.0  0.0  0.0  0.0  1.0  0.0  0.0  0.0  \n",
       "3 -0.257627  0.0  0.0  ...  1.0  0.0  0.0  0.0  0.0  0.0  1.0  0.0  0.0  0.0  \n",
       "4 -0.260112  0.0  0.0  ...  1.0  0.0  0.0  0.0  0.0  0.0  1.0  0.0  0.0  0.0  \n",
       "\n",
       "[5 rows x 27 columns]"
      ]
     },
     "execution_count": 3,
     "metadata": {},
     "output_type": "execute_result"
    }
   ],
   "source": [
    "X_test = pd.read_csv(\n",
    "    filepath_or_buffer = 'Data/XTest.csv'\n",
    "    , delimiter= ';'\n",
    "    , header=None\n",
    ")\n",
    "\n",
    "X_test.head()"
   ]
  },
  {
   "cell_type": "code",
   "execution_count": 4,
   "id": "097f99cb",
   "metadata": {},
   "outputs": [
    {
     "data": {
      "text/html": [
       "<div>\n",
       "<style scoped>\n",
       "    .dataframe tbody tr th:only-of-type {\n",
       "        vertical-align: middle;\n",
       "    }\n",
       "\n",
       "    .dataframe tbody tr th {\n",
       "        vertical-align: top;\n",
       "    }\n",
       "\n",
       "    .dataframe thead th {\n",
       "        text-align: right;\n",
       "    }\n",
       "</style>\n",
       "<table border=\"1\" class=\"dataframe\">\n",
       "  <thead>\n",
       "    <tr style=\"text-align: right;\">\n",
       "      <th></th>\n",
       "      <th>0</th>\n",
       "    </tr>\n",
       "  </thead>\n",
       "  <tbody>\n",
       "    <tr>\n",
       "      <th>0</th>\n",
       "      <td>0.0</td>\n",
       "    </tr>\n",
       "    <tr>\n",
       "      <th>1</th>\n",
       "      <td>1.0</td>\n",
       "    </tr>\n",
       "    <tr>\n",
       "      <th>2</th>\n",
       "      <td>0.0</td>\n",
       "    </tr>\n",
       "    <tr>\n",
       "      <th>3</th>\n",
       "      <td>0.0</td>\n",
       "    </tr>\n",
       "    <tr>\n",
       "      <th>4</th>\n",
       "      <td>0.0</td>\n",
       "    </tr>\n",
       "  </tbody>\n",
       "</table>\n",
       "</div>"
      ],
      "text/plain": [
       "     0\n",
       "0  0.0\n",
       "1  1.0\n",
       "2  0.0\n",
       "3  0.0\n",
       "4  0.0"
      ]
     },
     "execution_count": 4,
     "metadata": {},
     "output_type": "execute_result"
    }
   ],
   "source": [
    "y_train = pd.read_csv(\n",
    "    filepath_or_buffer = 'Data/yTrain.csv'\n",
    "    , delimiter= ';'\n",
    "    , header=None\n",
    ")\n",
    "\n",
    "y_train.head()"
   ]
  },
  {
   "cell_type": "code",
   "execution_count": 5,
   "id": "42970765",
   "metadata": {},
   "outputs": [
    {
     "data": {
      "text/html": [
       "<div>\n",
       "<style scoped>\n",
       "    .dataframe tbody tr th:only-of-type {\n",
       "        vertical-align: middle;\n",
       "    }\n",
       "\n",
       "    .dataframe tbody tr th {\n",
       "        vertical-align: top;\n",
       "    }\n",
       "\n",
       "    .dataframe thead th {\n",
       "        text-align: right;\n",
       "    }\n",
       "</style>\n",
       "<table border=\"1\" class=\"dataframe\">\n",
       "  <thead>\n",
       "    <tr style=\"text-align: right;\">\n",
       "      <th></th>\n",
       "      <th>0</th>\n",
       "    </tr>\n",
       "  </thead>\n",
       "  <tbody>\n",
       "    <tr>\n",
       "      <th>0</th>\n",
       "      <td>1.0</td>\n",
       "    </tr>\n",
       "    <tr>\n",
       "      <th>1</th>\n",
       "      <td>1.0</td>\n",
       "    </tr>\n",
       "    <tr>\n",
       "      <th>2</th>\n",
       "      <td>0.0</td>\n",
       "    </tr>\n",
       "    <tr>\n",
       "      <th>3</th>\n",
       "      <td>1.0</td>\n",
       "    </tr>\n",
       "    <tr>\n",
       "      <th>4</th>\n",
       "      <td>0.0</td>\n",
       "    </tr>\n",
       "  </tbody>\n",
       "</table>\n",
       "</div>"
      ],
      "text/plain": [
       "     0\n",
       "0  1.0\n",
       "1  1.0\n",
       "2  0.0\n",
       "3  1.0\n",
       "4  0.0"
      ]
     },
     "execution_count": 5,
     "metadata": {},
     "output_type": "execute_result"
    }
   ],
   "source": [
    "y_test = pd.read_csv(\n",
    "    filepath_or_buffer = 'Data/yTest.csv'\n",
    "    , delimiter= ';'\n",
    "    , header=None\n",
    ")\n",
    "\n",
    "y_test.head()"
   ]
  },
  {
   "cell_type": "markdown",
   "id": "4961ac20",
   "metadata": {},
   "source": [
    "# Scelta del modello e validazione dei parametri"
   ]
  },
  {
   "cell_type": "markdown",
   "id": "06711f7a",
   "metadata": {},
   "source": [
    "## KNN"
   ]
  },
  {
   "cell_type": "code",
   "execution_count": 6,
   "id": "29e790b0",
   "metadata": {},
   "outputs": [
    {
     "name": "stdout",
     "output_type": "stream",
     "text": [
      "CPU times: total: 35min 56s\n",
      "Wall time: 23min 22s\n"
     ]
    }
   ],
   "source": [
    "%%time\n",
    "\n",
    "n_neighbors_grid = np.unique(np.logspace(0.5, 1, 20).astype(int))\n",
    "\n",
    "knn_param_grid = {'n_neighbors':n_neighbors_grid}\n",
    "\n",
    "score_fnc = balanced_accuracy_score\n",
    "\n",
    "cv = StratifiedKFold(n_splits = 5, shuffle = True, random_state = rnd)\n",
    "\n",
    "knn_score = make_scorer(score_fnc)\n",
    "\n",
    "model_selection_knn = GridSearchCV(\n",
    "                                estimator = KNeighborsClassifier()\n",
    "                                , param_grid = knn_param_grid\n",
    "                                , scoring = knn_score\n",
    "                                , cv = cv\n",
    ")\n",
    "\n",
    "model_selection_knn.fit(X_train, y_train.values.ravel())\n",
    "\n",
    "knn = model_selection_knn.best_estimator_\n",
    "\n",
    "knn_Score = model_selection_knn.best_score_"
   ]
  },
  {
   "cell_type": "code",
   "execution_count": 7,
   "id": "e9946650",
   "metadata": {},
   "outputs": [
    {
     "data": {
      "text/plain": [
       "(KNeighborsClassifier(n_neighbors=3), 0.9574181059173652)"
      ]
     },
     "execution_count": 7,
     "metadata": {},
     "output_type": "execute_result"
    }
   ],
   "source": [
    "knn, knn_Score"
   ]
  },
  {
   "cell_type": "markdown",
   "id": "cf22a8dc",
   "metadata": {},
   "source": [
    "## Decision Tree Classifier"
   ]
  },
  {
   "cell_type": "code",
   "execution_count": 8,
   "id": "0d2a88c3",
   "metadata": {
    "scrolled": true
   },
   "outputs": [
    {
     "name": "stdout",
     "output_type": "stream",
     "text": [
      "CPU times: total: 11.7 s\n",
      "Wall time: 11.8 s\n"
     ]
    }
   ],
   "source": [
    "%%time\n",
    "ld = (5, 20, 5)\n",
    "lf = (5, 20, 5)\n",
    "max_depth_grid = np.linspace(*ld).astype(int)\n",
    "min_samples_leaf_grid = np.linspace(*lf).astype(int)\n",
    "param_grid = {'max_depth': max_depth_grid , 'min_samples_leaf': min_samples_leaf_grid}\n",
    "\n",
    "score_fnc = balanced_accuracy_score\n",
    "\n",
    "cv = StratifiedKFold(n_splits = 5, shuffle = True, random_state = rnd)\n",
    "\n",
    "model_selection_DT = GridSearchCV(DecisionTreeClassifier(class_weight = 'balanced')\n",
    "                               , param_grid = param_grid\n",
    "                               , scoring = make_scorer(score_fnc)\n",
    "                               , cv = cv\n",
    "    )\n",
    "\n",
    "model_selection_DT.fit(X_train, y_train)\n",
    "DT = model_selection_DT.best_estimator_\n",
    "DT_Score = model_selection_DT.best_score_"
   ]
  },
  {
   "cell_type": "code",
   "execution_count": 9,
   "id": "bd0a88ac",
   "metadata": {},
   "outputs": [
    {
     "data": {
      "text/plain": [
       "(DecisionTreeClassifier(class_weight='balanced', max_depth=5, min_samples_leaf=5),\n",
       " 1.0)"
      ]
     },
     "execution_count": 9,
     "metadata": {},
     "output_type": "execute_result"
    }
   ],
   "source": [
    "DT, DT_Score"
   ]
  },
  {
   "cell_type": "markdown",
   "id": "fa42070c",
   "metadata": {},
   "source": [
    "## SVM"
   ]
  },
  {
   "cell_type": "code",
   "execution_count": null,
   "id": "34562a9b",
   "metadata": {
    "scrolled": true
   },
   "outputs": [],
   "source": [
    "%%time\n",
    "\n",
    "param_range_gamma = [10e-4, 10e-3, 10e-2]\n",
    "param_range_C = [10e-3, 10e-2, 10e-1, 10.0]\n",
    "\n",
    "param_grid = [{'C' : param_range_C\n",
    "               ,'kernel' : ['linear']},\n",
    "              {'C' : param_range_C\n",
    "               ,'gamma': param_range_gamma,\n",
    "               'kernel' : ['rbf']\n",
    "              }]\n",
    "\n",
    "score_fnc = balanced_accuracy_score\n",
    "\n",
    "cv = StratifiedKFold(n_splits = 5, shuffle = True, random_state = rnd)\n",
    "\n",
    "model_selection_svm = GridSearchCV(estimator = SVC()\n",
    "                                    , param_grid = param_grid\n",
    "                                    , scoring = make_scorer(score_fnc)\n",
    "                                    , cv = cv\n",
    "                                  )\n",
    "\n",
    "model_selection_svm.fit(X_train, y_train.values.ravel())\n",
    "\n",
    "SVM = model_selection_svm.best_estimator_\n",
    "SVM_Score = model_selection_svm.best_score_"
   ]
  },
  {
   "cell_type": "code",
   "execution_count": null,
   "id": "b432d7d7",
   "metadata": {},
   "outputs": [],
   "source": [
    "SVM, SVM_Score"
   ]
  },
  {
   "cell_type": "markdown",
   "id": "b4c89bc5",
   "metadata": {},
   "source": [
    "## Random Forest"
   ]
  },
  {
   "cell_type": "code",
   "execution_count": null,
   "id": "226e2aed",
   "metadata": {},
   "outputs": [],
   "source": [
    "np.linspace(5, 150, 5).astype(int)"
   ]
  },
  {
   "cell_type": "code",
   "execution_count": null,
   "id": "d61fd8fe",
   "metadata": {},
   "outputs": [],
   "source": [
    "np.unique(np.logspace(0.8, 2, 50).astype(int))"
   ]
  },
  {
   "cell_type": "code",
   "execution_count": null,
   "id": "e932ee8c",
   "metadata": {},
   "outputs": [],
   "source": [
    "%%time\n",
    "\n",
    "ld_rf = (5, 20, 5)\n",
    "lf_rf = (5, 20, 5)\n",
    "est_rf = (0.8, 2, 50)\n",
    "\n",
    "max_depth_grid = np.linspace(*ld_rf).astype(int)\n",
    "min_samples_leaf_grid = np.linspace(*lf_rf).astype(int)\n",
    "n_estimators_grid = np.unique(np.logspace(*est_rf).astype(int))\n",
    "\n",
    "param_grid = {\n",
    "    'max_depth': max_depth_grid\n",
    "    , 'min_samples_leaf': min_samples_leaf_grid\n",
    "    , 'n_estimators': n_estimators_grid\n",
    "}\n",
    "\n",
    "score_fnc = balanced_accuracy_score\n",
    "\n",
    "cv = StratifiedKFold(n_splits = 5, shuffle = True, random_state = rnd)\n",
    "\n",
    "model_selection_RF = GridSearchCV(RandomForestClassifier(random_state=rnd)\n",
    "                               , param_grid = param_grid\n",
    "                               , scoring = make_scorer(score_fnc)\n",
    "                               , cv = cv\n",
    "    )\n",
    "\n",
    "model_selection_RF.fit(X_train, y_train.values.ravel())\n",
    "RF = model_selection_RF.best_estimator_\n",
    "RF_Score = model_selection_RF.best_score_"
   ]
  },
  {
   "cell_type": "code",
   "execution_count": null,
   "id": "e63498e3",
   "metadata": {},
   "outputs": [],
   "source": [
    "RF, RF_Score"
   ]
  },
  {
   "cell_type": "markdown",
   "id": "87f8155f",
   "metadata": {},
   "source": [
    "## Confrontro dei modelli testati"
   ]
  },
  {
   "cell_type": "code",
   "execution_count": null,
   "id": "d401c8f5",
   "metadata": {},
   "outputs": [],
   "source": [
    "def run_experiment(model):\n",
    "    model.fit(X_train, y_train)\n",
    "    \n",
    "    y_pred = model.predict(X_test)\n",
    "    \n",
    "    plot_confusion_matrix(model, X_test, y_test, cmap='GnBu')\n",
    "    plt.show()\n",
    "    \n",
    "    PS = round(precision_score(y_test, y_pred),2)\n",
    "    RS = round(recall_score(y_test, y_pred),2)\n",
    "    F1 = round(f1_score(y_test, y_pred),2)\n",
    "    AS = round(accuracy_score(y_test, y_pred),2)\n",
    "    BS = round(balanced_accuracy_score(y_test, y_pred),2)\n",
    "    \n",
    "    return PS,RS,F1,AS,BS"
   ]
  },
  {
   "cell_type": "code",
   "execution_count": null,
   "id": "a3790fb9",
   "metadata": {},
   "outputs": [],
   "source": [
    "Knn_PS, Knn_RS, Knn_F1, Knn_AS, Knn_BS = run_experiment(knn)"
   ]
  },
  {
   "cell_type": "code",
   "execution_count": null,
   "id": "e6725ad8",
   "metadata": {},
   "outputs": [],
   "source": [
    "DT_PS, DT_RS, DT_F1, DT_AS, DT_BS = run_experiment(DT)"
   ]
  },
  {
   "cell_type": "code",
   "execution_count": null,
   "id": "23b74654",
   "metadata": {},
   "outputs": [],
   "source": [
    "SVM_PS, SVM_RS, SVM_F1, SVM_AS, SVM_BS = run_experiment(SVM)"
   ]
  },
  {
   "cell_type": "code",
   "execution_count": null,
   "id": "4af021e9",
   "metadata": {},
   "outputs": [],
   "source": [
    "RF_PS, RF_RS, RF_F1, RF_AS, RF_BS = run_experiment(RF)"
   ]
  },
  {
   "cell_type": "code",
   "execution_count": null,
   "id": "1f3f199b",
   "metadata": {},
   "outputs": [],
   "source": [
    "print('Model \\t PS \\t RS \\t F1 \\t AS')\n",
    "print(f'Knn \\t {Knn_PS} \\t {Knn_RS} \\t {Knn_F1} \\t {Knn_AS} \\t {Knn_BS}')\n",
    "print(f'DT \\t {DT_PS} \\t {DT_RS} \\t {DT_F1} \\t {DT_AS} \\t {DT_BS}')\n",
    "print(f'SVM \\t {SVM_PS} \\t {SVM_RS} \\t {SVM_F1} \\t {SVM_AS} \\t {SVM_BS}')\n",
    "print(f'RF \\t {RF_PS} \\t {RF_RS} \\t {RF_F1} \\t {RF_AS} \\t {RF_BS}')"
   ]
  },
  {
   "cell_type": "code",
   "execution_count": null,
   "id": "031662d0",
   "metadata": {},
   "outputs": [],
   "source": []
  },
  {
   "cell_type": "code",
   "execution_count": null,
   "id": "67427a22",
   "metadata": {},
   "outputs": [],
   "source": []
  },
  {
   "cell_type": "code",
   "execution_count": null,
   "id": "441b33f0",
   "metadata": {},
   "outputs": [],
   "source": []
  },
  {
   "cell_type": "code",
   "execution_count": null,
   "id": "e6a4335d",
   "metadata": {},
   "outputs": [],
   "source": []
  },
  {
   "cell_type": "code",
   "execution_count": null,
   "id": "6434019e",
   "metadata": {},
   "outputs": [],
   "source": []
  },
  {
   "cell_type": "code",
   "execution_count": null,
   "id": "ca7c5194",
   "metadata": {},
   "outputs": [],
   "source": []
  },
  {
   "cell_type": "code",
   "execution_count": null,
   "id": "a8997ea9",
   "metadata": {},
   "outputs": [],
   "source": []
  },
  {
   "cell_type": "code",
   "execution_count": null,
   "id": "c0a5b35a",
   "metadata": {},
   "outputs": [],
   "source": []
  },
  {
   "cell_type": "code",
   "execution_count": null,
   "id": "67edadc7",
   "metadata": {},
   "outputs": [],
   "source": []
  },
  {
   "cell_type": "code",
   "execution_count": null,
   "id": "5489426c",
   "metadata": {},
   "outputs": [],
   "source": []
  },
  {
   "cell_type": "code",
   "execution_count": null,
   "id": "ca9a8e40",
   "metadata": {},
   "outputs": [],
   "source": []
  },
  {
   "cell_type": "code",
   "execution_count": null,
   "id": "b2bcc815",
   "metadata": {},
   "outputs": [],
   "source": []
  },
  {
   "cell_type": "code",
   "execution_count": null,
   "id": "d8eb3e38",
   "metadata": {},
   "outputs": [],
   "source": []
  },
  {
   "cell_type": "code",
   "execution_count": null,
   "id": "9ebc6801",
   "metadata": {},
   "outputs": [],
   "source": []
  },
  {
   "cell_type": "code",
   "execution_count": null,
   "id": "f8ca52a7",
   "metadata": {},
   "outputs": [],
   "source": []
  },
  {
   "cell_type": "code",
   "execution_count": null,
   "id": "3cbab5e9",
   "metadata": {},
   "outputs": [],
   "source": []
  },
  {
   "cell_type": "code",
   "execution_count": null,
   "id": "cd16d68f",
   "metadata": {},
   "outputs": [],
   "source": []
  },
  {
   "cell_type": "code",
   "execution_count": null,
   "id": "6a5fc05f",
   "metadata": {},
   "outputs": [],
   "source": []
  },
  {
   "cell_type": "code",
   "execution_count": null,
   "id": "f5e36d2a",
   "metadata": {},
   "outputs": [],
   "source": []
  },
  {
   "cell_type": "code",
   "execution_count": null,
   "id": "cfc06ac0",
   "metadata": {},
   "outputs": [],
   "source": []
  },
  {
   "cell_type": "code",
   "execution_count": null,
   "id": "7b9655eb",
   "metadata": {},
   "outputs": [],
   "source": []
  },
  {
   "cell_type": "code",
   "execution_count": null,
   "id": "b2ec8aad",
   "metadata": {},
   "outputs": [],
   "source": []
  },
  {
   "cell_type": "code",
   "execution_count": null,
   "id": "577c0c6d",
   "metadata": {},
   "outputs": [],
   "source": []
  },
  {
   "cell_type": "code",
   "execution_count": null,
   "id": "737c1d34",
   "metadata": {},
   "outputs": [],
   "source": []
  },
  {
   "cell_type": "code",
   "execution_count": null,
   "id": "7d8bdfda",
   "metadata": {},
   "outputs": [],
   "source": []
  },
  {
   "cell_type": "code",
   "execution_count": null,
   "id": "df6339c3",
   "metadata": {},
   "outputs": [],
   "source": []
  },
  {
   "cell_type": "code",
   "execution_count": null,
   "id": "f7477a4d",
   "metadata": {},
   "outputs": [],
   "source": []
  },
  {
   "cell_type": "code",
   "execution_count": null,
   "id": "bb73506c",
   "metadata": {},
   "outputs": [],
   "source": []
  }
 ],
 "metadata": {
  "kernelspec": {
   "display_name": "Python 3 (ipykernel)",
   "language": "python",
   "name": "python3"
  },
  "language_info": {
   "codemirror_mode": {
    "name": "ipython",
    "version": 3
   },
   "file_extension": ".py",
   "mimetype": "text/x-python",
   "name": "python",
   "nbconvert_exporter": "python",
   "pygments_lexer": "ipython3",
   "version": "3.9.13"
  }
 },
 "nbformat": 4,
 "nbformat_minor": 5
}
